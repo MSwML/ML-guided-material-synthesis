{
 "cells": [
  {
   "cell_type": "code",
   "execution_count": null,
   "metadata": {},
   "outputs": [],
   "source": [
    "import pandas as pd\n",
    "import numpy as np\n",
    "\n",
    "\n",
    "import xgboost as xgb\n",
    "from sklearn.model_selection import GridSearchCV, StratifiedKFold\n",
    "\n",
    "\n",
    "import time\n",
    "init_time = time.time()\n",
    "\n",
    "from utils import data_handler, plotter, others\n",
    "\n",
    "np.random.seed(3)"
   ]
  },
  {
   "cell_type": "markdown",
   "metadata": {},
   "source": [
    "# Data Handling"
   ]
  },
  {
   "cell_type": "code",
   "execution_count": null,
   "metadata": {},
   "outputs": [],
   "source": [
    "task = 0\n",
    "title = 'mos2_'\n",
    "\n",
    "X,Y = data_handler.load_XY(task)\n",
    "feature_list = X.columns"
   ]
  },
  {
   "cell_type": "markdown",
   "metadata": {},
   "source": [
    "# Learning curve"
   ]
  },
  {
   "cell_type": "code",
   "execution_count": null,
   "metadata": {},
   "outputs": [],
   "source": [
    "plotter.plot_learning_curve_versus_tr_epoch(title=title, save_csv=True,verbose=False, save_fig=True)"
   ]
  },
  {
   "cell_type": "markdown",
   "metadata": {},
   "source": [
    "# ROC Plot"
   ]
  },
  {
   "cell_type": "code",
   "execution_count": null,
   "metadata": {},
   "outputs": [],
   "source": [
    "# GradientBoost\n",
    "pipe = xgb.XGBClassifier(objective=\"binary:logistic\",min_child_weight=1,**{'tree_method':'exact'},silent=True,n_jobs=4,random_state=3,seed=3);\n",
    "\n",
    "tuned_parameters = dict(learning_rate=[0.01],#0.01,0.1,0.2,0.3\n",
    "                        colsample_bylevel=[0.9],\n",
    "                        colsample_bytree=[0.9],\n",
    "                  n_estimators=[500], #100\n",
    "                  gamma=[0.8], #0,0.1,0.2,0.3,0.4\n",
    "                  max_depth =[11], # [4,5,6]\n",
    "                       # reg_alpha = [0.1],\n",
    "                  reg_lambda = [0.8],\n",
    "                       subsample=[0.4])\n",
    "\n",
    "plotter.plot_ROC_curve(pipe=pipe, tuned_parameters = tuned_parameters, title = title, save_csv = True)"
   ]
  },
  {
   "cell_type": "markdown",
   "metadata": {},
   "source": [
    "# Best Model "
   ]
  },
  {
   "cell_type": "code",
   "execution_count": null,
   "metadata": {},
   "outputs": [],
   "source": [
    "xgb_clf = xgb.XGBClassifier(objective=\"binary:logistic\",min_child_weight=1,**{'tree_method':'exact'},silent=True,n_jobs=4,random_state=3,seed=3,\n",
    "                         learning_rate=0.01,\n",
    "                          colsample_bylevel=0.9,\n",
    "                          colsample_bytree=0.9,\n",
    "                          n_estimators=500, \n",
    "                          gamma=0.8, \n",
    "                          max_depth =11, \n",
    "                          reg_lambda = 0.8,\n",
    "                          subsample=0.4)\n",
    "\n",
    "\n",
    "xgb_clf.fit(X, Y)"
   ]
  },
  {
   "cell_type": "markdown",
   "metadata": {},
   "source": [
    "## Feature Importance of the model learns all information\n",
    " - explain the model's predictions using SHAP values"
   ]
  },
  {
   "cell_type": "code",
   "execution_count": null,
   "metadata": {},
   "outputs": [],
   "source": [
    "others.extract_feature_importance(xgb_clf, X, title)"
   ]
  },
  {
   "cell_type": "markdown",
   "metadata": {},
   "source": [
    "# Self-generated fake inputs "
   ]
  },
  {
   "cell_type": "markdown",
   "metadata": {},
   "source": [
    "Predict generated inputs"
   ]
  },
  {
   "cell_type": "code",
   "execution_count": null,
   "metadata": {},
   "outputs": [],
   "source": [
    "others.predict_fake_input(xgb_clf, task, title)"
   ]
  },
  {
   "cell_type": "code",
   "execution_count": null,
   "metadata": {},
   "outputs": [],
   "source": [
    "end_time = time.time()\n",
    "print('total time = ',(end_time - init_time)/60,' mins')"
   ]
  },
  {
   "cell_type": "code",
   "execution_count": null,
   "metadata": {},
   "outputs": [],
   "source": []
  }
 ],
 "metadata": {
  "kernelspec": {
   "display_name": "Python 3",
   "language": "python",
   "name": "python3"
  },
  "language_info": {
   "codemirror_mode": {
    "name": "ipython",
    "version": 3
   },
   "file_extension": ".py",
   "mimetype": "text/x-python",
   "name": "python",
   "nbconvert_exporter": "python",
   "pygments_lexer": "ipython3",
   "version": "3.6.9"
  }
 },
 "nbformat": 4,
 "nbformat_minor": 2
}
