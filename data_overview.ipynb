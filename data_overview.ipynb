{
 "cells": [
  {
   "cell_type": "code",
   "execution_count": null,
   "metadata": {},
   "outputs": [],
   "source": [
    "from utils import data_handler,plotter\n",
    "import pandas as pd\n",
    "import numpy as np"
   ]
  },
  {
   "cell_type": "code",
   "execution_count": null,
   "metadata": {},
   "outputs": [],
   "source": [
    "def compute_mean_std(X):\n",
    "    \n",
    "    feature_list = X.columns\n",
    "    print('\\n\\n>>Feature stats:')\n",
    "    for i in range(len(feature_list)):\n",
    "        arr = X[feature_list[i]]\n",
    "        mean =  np.mean(arr)\n",
    "        std = np.std(arr)\n",
    "        print(feature_list[i],':   mean= ',mean,' std= ',std)"
   ]
  },
  {
   "cell_type": "markdown",
   "metadata": {},
   "source": [
    "## CVD-MoS2 dataset"
   ]
  },
  {
   "cell_type": "code",
   "execution_count": null,
   "metadata": {},
   "outputs": [],
   "source": [
    "task = 0\n",
    "title = 'mos2'\n",
    "\n",
    "X,Y = data_handler.load_XY(task)\n",
    "\n",
    "print('Number of negative class = ',sum(Y==0))\n",
    "print('Number of positive class = ',sum(Y==1))\n",
    "\n",
    "compute_mean_std(X)"
   ]
  },
  {
   "cell_type": "code",
   "execution_count": null,
   "metadata": {},
   "outputs": [],
   "source": [
    "col_list = [r'$NaCl$',r'$D$',r'$F/T$',r'$R_f$',r'$T$',r'$t_r$',r'$t$']\n",
    "plotter.plot_correlation_matrix(X, title, col_list)"
   ]
  },
  {
   "cell_type": "markdown",
   "metadata": {},
   "source": [
    "## Hydrothermal-CQD dataset"
   ]
  },
  {
   "cell_type": "code",
   "execution_count": null,
   "metadata": {},
   "outputs": [],
   "source": [
    "task = 1\n",
    "title = 'cqd'\n",
    "\n",
    "X,Y = data_handler.load_XY(task)\n",
    "\n",
    "compute_mean_std(X)\n",
    "\n",
    "col_list = [r'$M$',r'$V$',r'$T$',r'$t$',r'$R_r$',r'$pH$']\n",
    "    \n",
    "plotter.plot_correlation_matrix(X, title, col_list)"
   ]
  }
 ],
 "metadata": {
  "kernelspec": {
   "display_name": "Python 3",
   "language": "python",
   "name": "python3"
  },
  "language_info": {
   "codemirror_mode": {
    "name": "ipython",
    "version": 3
   },
   "file_extension": ".py",
   "mimetype": "text/x-python",
   "name": "python",
   "nbconvert_exporter": "python",
   "pygments_lexer": "ipython3",
   "version": "3.6.6"
  }
 },
 "nbformat": 4,
 "nbformat_minor": 2
}
