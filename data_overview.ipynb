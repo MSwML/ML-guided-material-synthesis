{
 "cells": [
  {
   "cell_type": "code",
   "execution_count": 1,
   "metadata": {},
   "outputs": [],
   "source": [
    "from utils import data_handler,plotter\n",
    "import pandas as pd\n",
    "import numpy as np"
   ]
  },
  {
   "cell_type": "code",
   "execution_count": 2,
   "metadata": {},
   "outputs": [],
   "source": [
    "def compute_mean_std(X):\n",
    "    \n",
    "    feature_list = X.columns\n",
    "    print('\\n\\n>>Feature stats:')\n",
    "    for i in range(len(feature_list)):\n",
    "        arr = X[feature_list[i]]\n",
    "        mean =  np.mean(arr)\n",
    "        std = np.std(arr)\n",
    "        print(feature_list[i],':   mean= ',mean,' std= ',std)"
   ]
  },
  {
   "cell_type": "markdown",
   "metadata": {},
   "source": [
    "## CVD-MoS2 dataset"
   ]
  },
  {
   "cell_type": "code",
   "execution_count": 3,
   "metadata": {},
   "outputs": [
    {
     "name": "stdout",
     "output_type": "stream",
     "text": [
      "loading MoS2 dataset...\n",
      "Number of negative class =  117\n",
      "Number of positive class =  183\n",
      "\n",
      "\n",
      ">>Feature stats:\n",
      "Add NaCl :   mean=  0.29  std=  0.4537620521815371\n",
      "Distance of S outside Furnace (in cm) :   mean=  2.1043333333333334  std=  0.4481977490151219\n",
      "Flat/Tilted_Face Down (Tilted) :   mean=  0.30333333333333334  std=  0.45969796847737127\n",
      "Flow rate (sccm) :   mean=  71.63333333333334  std=  42.25516404995831\n",
      "Reaction Temperature (°C) :   mean=  727.95  std=  94.33034594798572\n",
      "Ramp time (min) :   mean=  15.9  std=  2.0273134932713295\n",
      "Reaction time (min) :   mean=  11.51  std=  3.0946028285818308\n"
     ]
    }
   ],
   "source": [
    "task = 0\n",
    "title = 'mos2'\n",
    "\n",
    "X,Y = data_handler.load_XY(task)\n",
    "\n",
    "print('Number of negative class = ',sum(Y==0))\n",
    "print('Number of positive class = ',sum(Y==1))\n",
    "\n",
    "compute_mean_std(X)"
   ]
  },
  {
   "cell_type": "code",
   "execution_count": 4,
   "metadata": {},
   "outputs": [
    {
     "data": {
      "image/png": "[encoded data removed]",
      "text/plain": [
       "<Figure size 432x288 with 2 Axes>"
      ]
     },
     "metadata": {
      "needs_background": "light"
     },
     "output_type": "display_data"
    },
    {
     "name": "stdout",
     "output_type": "stream",
     "text": [
      "Successfully saved to:  F:\\projects\\MoS2_Project_clean/results/mos2_confusion_matrix2019_6_10.png\n"
     ]
    }
   ],
   "source": [
    "col_list = [r'$NaCl$',r'$D$',r'$F/T$',r'$R_f$',r'$T$',r'$t_r$',r'$t$']\n",
    "plotter.plot_correlation_matrix(X, title, col_list)"
   ]
  },
  {
   "cell_type": "markdown",
   "metadata": {},
   "source": [
    "## Hydrothermal-CQD dataset"
   ]
  },
  {
   "cell_type": "code",
   "execution_count": 5,
   "metadata": {},
   "outputs": [
    {
     "name": "stdout",
     "output_type": "stream",
     "text": [
      "loading CQD dataset...\n",
      "\n",
      "\n",
      ">>Feature stats:\n",
      "Mass of Precursor A (g) :   mean=  2.860899357601713  std=  3.4794367551861116\n",
      "Solution Volume (ml) :   mean=  44.72162740899358  std=  9.969311751309354\n",
      "Reaction Temperature (°C) :   mean=  197.34475374732335  std=  43.84998503626037\n",
      "Reaction Time(h) :   mean=  3.348907922912206  std=  3.64265543746062\n",
      "Ramp Rate (°C/min) :   mean=  12.079229122055674  std=  4.6316268046516145\n",
      "pH Value :   mean=  7.002141327623126  std=  1.873401021943801\n"
     ]
    },
    {
     "data": {
      "image/png": "[encoded data removed]",
      "text/plain": [
       "<Figure size 432x288 with 2 Axes>"
      ]
     },
     "metadata": {
      "needs_background": "light"
     },
     "output_type": "display_data"
    },
    {
     "name": "stdout",
     "output_type": "stream",
     "text": [
      "Successfully saved to:  F:\\projects\\MoS2_Project_clean/results/cqd_confusion_matrix2019_6_10.png\n"
     ]
    }
   ],
   "source": [
    "task = 1\n",
    "title = 'cqd'\n",
    "\n",
    "X,Y = data_handler.load_XY(task)\n",
    "\n",
    "compute_mean_std(X)\n",
    "\n",
    "col_list = [r'$M$',r'$V$',r'$T$',r'$t$',r'$R_r$',r'$pH$']\n",
    "    \n",
    "plotter.plot_correlation_matrix(X, title, col_list)"
   ]
  },
  {
   "cell_type": "code",
   "execution_count": null,
   "metadata": {},
   "outputs": [],
   "source": []
  }
 ],
 "metadata": {
  "kernelspec": {
   "display_name": "Python 3",
   "language": "python",
   "name": "python3"
  },
  "language_info": {
   "codemirror_mode": {
    "name": "ipython",
    "version": 3
   },
   "file_extension": ".py",
   "mimetype": "text/x-python",
   "name": "python",
   "nbconvert_exporter": "python",
   "pygments_lexer": "ipython3",
   "version": "3.6.6"
  }
 },
 "nbformat": 4,
 "nbformat_minor": 2
}
