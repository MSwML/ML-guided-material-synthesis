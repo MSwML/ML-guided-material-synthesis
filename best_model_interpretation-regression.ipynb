{
 "cells": [
  {
   "cell_type": "code",
   "execution_count": 20,
   "metadata": {},
   "outputs": [],
   "source": [
    "import pandas as pd\n",
    "import numpy as np\n",
    "import xgboost as xgb\n",
    "\n",
    "from sklearn.preprocessing import StandardScaler\n",
    "from sklearn import metrics \n",
    "from sklearn.model_selection import KFold, GridSearchCV, learning_curve\n",
    "from sklearn.svm import SVR\n",
    "\n",
    "import matplotlib.pyplot as plt\n",
    "%matplotlib inline\n",
    "import seaborn as sns\n",
    "sns.set_style(\"whitegrid\")\n",
    "\n",
    "import time\n",
    "init_time = time.time()\n",
    "\n",
    "from utils import data_handler, plotter ,others\n",
    "\n",
    "np.random.seed(3)"
   ]
  },
  {
   "cell_type": "markdown",
   "metadata": {},
   "source": [
    "# Data Handling"
   ]
  },
  {
   "cell_type": "code",
   "execution_count": 21,
   "metadata": {},
   "outputs": [
    {
     "name": "stdout",
     "output_type": "stream",
     "text": [
      "loading CQD dataset...\n"
     ]
    }
   ],
   "source": [
    "title = 'cqd_'\n",
    "task = 1\n",
    "\n",
    "X,Y = data_handler.load_XY(task)\n",
    "feature_list = X.columns"
   ]
  },
  {
   "cell_type": "markdown",
   "metadata": {},
   "source": [
    "# Best Model "
   ]
  },
  {
   "cell_type": "code",
   "execution_count": 22,
   "metadata": {
    "scrolled": true
   },
   "outputs": [
    {
     "data": {
      "text/plain": [
       "XGBRegressor(base_score=0.5, booster='gbtree', colsample_bylevel=0.5,\n",
       "       colsample_bytree=1, gamma=0, learning_rate=0.01, max_delta_step=0,\n",
       "       max_depth=11, min_child_weight=1, missing=None, n_estimators=550,\n",
       "       n_jobs=4, nthread=None, objective='reg:linear', random_state=8767,\n",
       "       reg_alpha=1, reg_lambda=27, scale_pos_weight=1, seed=3, silent=True,\n",
       "       subsample=0.4, tree_method='exact')"
      ]
     },
     "execution_count": 22,
     "metadata": {},
     "output_type": "execute_result"
    }
   ],
   "source": [
    "\n",
    "# GradientBoost\n",
    "xgb_reg = xgb.XGBRegressor(objective=\"reg:linear\",min_child_weight=1,**{'tree_method':'exact'},silent=True,n_jobs=4,random_state=8767,seed=3,\n",
    "                       learning_rate= 0.01,#0.01 \n",
    "                        colsample_bylevel= 0.5,\n",
    "                        reg_alpha =  1,\n",
    "                  n_estimators=550, \n",
    "                  gamma= 0,\n",
    "                  max_depth = 11, \n",
    "                  reg_lambda =  27,  \n",
    "                  subsample= 0.4\n",
    "                  )\n",
    "\n",
    "\n",
    "xgb_reg.fit(X, Y)"
   ]
  },
  {
   "cell_type": "markdown",
   "metadata": {},
   "source": [
    "Feature Importance of the model learns all information\n",
    " - explain the model's predictions using SHAP values"
   ]
  },
  {
   "cell_type": "code",
   "execution_count": 24,
   "metadata": {},
   "outputs": [
    {
     "name": "stdout",
     "output_type": "stream",
     "text": [
      "Feature importance...\n"
     ]
    },
    {
     "data": {
      "image/png": "[encoded data removed]",
      "text/plain": [
       "<Figure size 576x280.8 with 1 Axes>"
      ]
     },
     "metadata": {},
     "output_type": "display_data"
    },
    {
     "name": "stdout",
     "output_type": "stream",
     "text": [
      "   pH Value  Reaction Temperature (°C)  Reaction Time(h)  \\\n",
      "0  0.314341                   0.300144           0.15985   \n",
      "\n",
      "   Mass of Precursor A (g)  Ramp Rate (°C/min)  Solution Volume (ml)  \n",
      "0                 0.121143            0.080842               0.02368  \n",
      "Successfully saved : F:\\projects\\MoS2_Project_clean/results/cqd_feature_imp_sorted2019_6_10_1.csv\n"
     ]
    }
   ],
   "source": [
    "others.extract_feature_importance(xgb_reg,X,title)"
   ]
  },
  {
   "cell_type": "markdown",
   "metadata": {},
   "source": [
    "# Self-generated fake inputs "
   ]
  },
  {
   "cell_type": "code",
   "execution_count": 25,
   "metadata": {},
   "outputs": [
    {
     "name": "stdout",
     "output_type": "stream",
     "text": [
      "Number of generated conditions :  (1555840, 6)\n",
      "Successfully saved : F:\\projects\\MoS2_Project_clean/results/cqd_pred_fake_input2019_6_10_1.csv\n"
     ]
    }
   ],
   "source": [
    "others.predict_fake_input(xgb_reg, task, title)"
   ]
  },
  {
   "cell_type": "code",
   "execution_count": 26,
   "metadata": {},
   "outputs": [
    {
     "name": "stdout",
     "output_type": "stream",
     "text": [
      "total time =  0.7299203197161357  mins\n"
     ]
    }
   ],
   "source": [
    "end_time = time.time()\n",
    "print('total time = ',(end_time - init_time)/60,' mins')"
   ]
  },
  {
   "cell_type": "code",
   "execution_count": null,
   "metadata": {},
   "outputs": [],
   "source": []
  }
 ],
 "metadata": {
  "kernelspec": {
   "display_name": "Python 3",
   "language": "python",
   "name": "python3"
  },
  "language_info": {
   "codemirror_mode": {
    "name": "ipython",
    "version": 3
   },
   "file_extension": ".py",
   "mimetype": "text/x-python",
   "name": "python",
   "nbconvert_exporter": "python",
   "pygments_lexer": "ipython3",
   "version": "3.6.6"
  }
 },
 "nbformat": 4,
 "nbformat_minor": 2
}
